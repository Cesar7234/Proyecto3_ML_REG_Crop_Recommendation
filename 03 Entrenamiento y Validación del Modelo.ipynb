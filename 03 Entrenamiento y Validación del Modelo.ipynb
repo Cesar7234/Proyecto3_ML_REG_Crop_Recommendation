{
 "cells": [
  {
   "cell_type": "code",
   "execution_count": 1,
   "metadata": {},
   "outputs": [
    {
     "name": "stderr",
     "output_type": "stream",
     "text": [
      "100%|██████████| 42/42 [02:06<00:00,  3.01s/it]"
     ]
    },
    {
     "name": "stdout",
     "output_type": "stream",
     "text": [
      "[LightGBM] [Info] Auto-choosing row-wise multi-threading, the overhead of testing was 0.000463 seconds.\n",
      "You can set `force_row_wise=true` to remove the overhead.\n",
      "And if memory is not enough, you can set `force_col_wise=true`.\n",
      "[LightGBM] [Info] Total Bins 1339\n",
      "[LightGBM] [Info] Number of data points in the train set: 1760, number of used features: 7\n",
      "[LightGBM] [Info] Start training from score 10.543750\n",
      "                               Adjusted R-Squared  R-Squared  RMSE  Time Taken\n",
      "Model                                                                         \n",
      "ExtraTreesRegressor                          0.97       0.97  1.08        0.21\n",
      "DecisionTreeRegressor                        0.95       0.96  1.37        0.01\n",
      "XGBRegressor                                 0.95       0.95  1.42        0.21\n",
      "BaggingRegressor                             0.94       0.94  1.54        0.09\n",
      "KNeighborsRegressor                          0.94       0.94  1.54        0.02\n",
      "RandomForestRegressor                        0.94       0.94  1.55        0.81\n",
      "HistGradientBoostingRegressor                0.94       0.94  1.57        0.63\n",
      "LGBMRegressor                                0.94       0.94  1.59        0.29\n",
      "GradientBoostingRegressor                    0.90       0.91  2.00        0.49\n",
      "ExtraTreeRegressor                           0.87       0.87  2.34        0.01\n",
      "NuSVR                                        0.81       0.82  2.79        0.14\n",
      "SVR                                          0.81       0.81  2.82        0.22\n",
      "MLPRegressor                                 0.78       0.79  3.01        1.24\n",
      "GaussianProcessRegressor                     0.78       0.78  3.05        0.31\n",
      "AdaBoostRegressor                            0.68       0.68  3.67        0.20\n",
      "ElasticNetCV                                 0.25       0.26  5.60        0.05\n",
      "BayesianRidge                                0.25       0.26  5.61        0.01\n",
      "LassoLarsCV                                  0.25       0.26  5.61        0.02\n",
      "LarsCV                                       0.25       0.26  5.61        0.02\n",
      "LassoCV                                      0.25       0.26  5.61        0.05\n",
      "LassoLarsIC                                  0.24       0.26  5.61        0.01\n",
      "RidgeCV                                      0.24       0.26  5.61        0.01\n",
      "Ridge                                        0.24       0.26  5.61        0.01\n",
      "TransformedTargetRegressor                   0.24       0.26  5.61        0.01\n",
      "Lars                                         0.24       0.26  5.61        0.01\n",
      "LinearRegression                             0.24       0.26  5.61        0.01\n",
      "SGDRegressor                                 0.24       0.26  5.61        0.01\n",
      "OrthogonalMatchingPursuitCV                  0.24       0.25  5.63        0.01\n",
      "OrthogonalMatchingPursuit                    0.21       0.22  5.73        0.01\n",
      "HuberRegressor                               0.21       0.22  5.74        0.02\n",
      "TweedieRegressor                             0.20       0.21  5.77        0.01\n",
      "PoissonRegressor                             0.19       0.21  5.79        0.01\n",
      "ElasticNet                                   0.19       0.21  5.80        0.01\n",
      "LinearSVR                                    0.19       0.20  5.83        0.01\n",
      "Lasso                                        0.19       0.20  5.83        0.01\n",
      "LassoLars                                    0.19       0.20  5.83        0.01\n",
      "DummyRegressor                              -0.02      -0.00  6.51        0.01\n",
      "QuantileRegressor                           -0.02      -0.00  6.51      121.16\n",
      "PassiveAggressiveRegressor                  -0.51      -0.49  7.93        0.01\n",
      "RANSACRegressor                             -0.57      -0.55  8.09        0.11\n",
      "KernelRidge                                 -2.29      -2.24 11.71        0.14\n",
      "MSE: 1.8886363636363637, MAE: 0.175\n"
     ]
    },
    {
     "name": "stderr",
     "output_type": "stream",
     "text": [
      "\n",
      "2024/09/20 20:46:18 WARNING mlflow.utils.git_utils: Failed to import Git (the Git executable is probably not on your PATH), so Git SHA is not available. Error: Failed to initialize: Bad git executable.\n",
      "The git executable must be specified in one of the following ways:\n",
      "    - be included in your $PATH\n",
      "    - be set via $GIT_PYTHON_GIT_EXECUTABLE\n",
      "    - explicitly set via git.refresh(<full-path-to-git-executable>)\n",
      "\n",
      "All git commands will error until this is rectified.\n",
      "\n",
      "This initial message can be silenced or aggravated in the future by setting the\n",
      "$GIT_PYTHON_REFRESH environment variable. Use one of the following values:\n",
      "    - quiet|q|silence|s|silent|none|n|0: for no message or exception\n",
      "    - warn|w|warning|log|l|1: for a warning message (logging level CRITICAL, displayed by default)\n",
      "    - error|e|exception|raise|r|2: for a raised exception\n",
      "\n",
      "Example:\n",
      "    export GIT_PYTHON_REFRESH=quiet\n",
      "\n"
     ]
    }
   ],
   "source": [
    "# model_training.py\n",
    "import joblib\n",
    "import lazypredict\n",
    "from lazypredict.Supervised import LazyRegressor\n",
    "from sklearn.tree import DecisionTreeRegressor\n",
    "from sklearn.metrics import mean_squared_error, mean_absolute_error\n",
    "import mlflow\n",
    "\n",
    "# Cargar los datos preprocesados\n",
    "X_train, X_test, y_train, y_test = joblib.load('preprocessed_data.pkl')\n",
    "\n",
    "# Comparación de algoritmos con Lazy Predict\n",
    "reg = LazyRegressor(verbose=0, ignore_warnings=True, custom_metric=None)\n",
    "models, predictions = reg.fit(X_train, X_test, y_train, y_test)\n",
    "print(models)\n",
    "\n",
    "# Entrenar Decision Tree Regressor\n",
    "dt = DecisionTreeRegressor(random_state=42)\n",
    "dt.fit(X_train, y_train)\n",
    "\n",
    "# Predicciones\n",
    "y_pred = dt.predict(X_test)\n",
    "\n",
    "# Evaluación del modelo\n",
    "mse = mean_squared_error(y_test, y_pred)\n",
    "mae = mean_absolute_error(y_test, y_pred)\n",
    "print(f'MSE: {mse}, MAE: {mae}')\n",
    "\n",
    "# Guardar el modelo\n",
    "joblib.dump(dt, 'decision_tree_model.pkl')\n",
    "\n",
    "# Registrar en MLFlow\n",
    "with mlflow.start_run():\n",
    "    mlflow.log_param(\"model_type\", \"RandomForest\")\n",
    "    mlflow.log_metric(\"mse\", mse)\n",
    "    mlflow.log_metric(\"mae\", mae)\n",
    "    mlflow.sklearn.log_model(dt, \"decision_tree_model\")\n"
   ]
  }
 ],
 "metadata": {
  "kernelspec": {
   "display_name": "Python 3",
   "language": "python",
   "name": "python3"
  },
  "language_info": {
   "codemirror_mode": {
    "name": "ipython",
    "version": 3
   },
   "file_extension": ".py",
   "mimetype": "text/x-python",
   "name": "python",
   "nbconvert_exporter": "python",
   "pygments_lexer": "ipython3",
   "version": "3.11.1"
  }
 },
 "nbformat": 4,
 "nbformat_minor": 2
}
